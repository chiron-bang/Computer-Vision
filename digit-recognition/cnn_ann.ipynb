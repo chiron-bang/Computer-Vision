{
  "cells": [
    {
      "cell_type": "markdown",
      "id": "48ebd361",
      "metadata": {
        "id": "48ebd361"
      },
      "source": [
        "Trained on Windows 10, necessitate the installation of Tensorflow, numpy, matplotlib and opencv.\n",
        "To being able to save the weights, a folder \"method3\" should be created on the disk. "
      ]
    },
    {
      "cell_type": "markdown",
      "id": "568dacbd",
      "metadata": {
        "id": "568dacbd"
      },
      "source": [
        "**Ressources used for the following code**\n",
        "\n",
        "\n",
        "*   https://www.codeproject.com/Articles/5278503/Making-TensorFlow-Models-Portable-Using-ONNX\n",
        "*   https://learning.oreilly.com/library/view/deep-learning-with/9781617294433/OEBPS/Text/05.xhtml \n",
        "* Chap. 5, Deep Learning with Python by François Chollet.\n"
      ]
    },
    {
      "cell_type": "code",
      "execution_count": 1,
      "id": "95b4e098",
      "metadata": {
        "id": "95b4e098"
      },
      "outputs": [],
      "source": [
        "import tensorflow as tf\n",
        "import os\n",
        "import random as rd\n",
        "import matplotlib.pyplot as plt\n",
        "import cv2 as cv\n",
        "import numpy as np"
      ]
    },
    {
      "cell_type": "markdown",
      "id": "d732fc9b",
      "metadata": {
        "id": "d732fc9b"
      },
      "source": [
        "<h2>Loading and preprocessing</h2>"
      ]
    },
    {
      "cell_type": "code",
      "execution_count": null,
      "id": "add28ae6",
      "metadata": {
        "collapsed": true,
        "id": "add28ae6"
      },
      "outputs": [],
      "source": [
        "!wget https://github.com/chiron-bang/Computer-Vision/blob/main/digit-recognition/data.zip?raw=true\n",
        "!mv data.zip?raw=true data.zip\n",
        "!unzip data"
      ]
    },
    {
      "cell_type": "code",
      "execution_count": 3,
      "id": "ba494800",
      "metadata": {
        "id": "ba494800"
      },
      "outputs": [],
      "source": [
        "IMAGE_DIR = 'training/'\n",
        "dir_list = os.listdir(IMAGE_DIR)\n",
        "X,y = [], []"
      ]
    },
    {
      "cell_type": "code",
      "execution_count": 4,
      "id": "ff788bd4",
      "metadata": {
        "id": "ff788bd4"
      },
      "outputs": [],
      "source": [
        "for dir_name in dir_list:\n",
        "    file_names = os.listdir(IMAGE_DIR + dir_name)\n",
        "    for file_name in file_names:\n",
        "        img = cv.imread(IMAGE_DIR + dir_name + \"/\" + file_name, cv.IMREAD_GRAYSCALE)\n",
        "        #img.astype('float') look into it later\n",
        "        X.append(img)\n",
        "        y.append(int(dir_name))\n",
        "\n",
        "\n"
      ]
    },
    {
      "cell_type": "markdown",
      "id": "508a671c",
      "metadata": {
        "id": "508a671c"
      },
      "source": [
        "<h3>Shuffling and scaling the images</h3>"
      ]
    },
    {
      "cell_type": "code",
      "execution_count": 5,
      "id": "f283174b",
      "metadata": {
        "id": "f283174b"
      },
      "outputs": [],
      "source": [
        "indexes = list(range(len(X)))\n",
        "rd.shuffle(indexes)\n",
        "\n",
        "X = np.array(X,dtype='float')\n",
        "X = np.expand_dims(X, axis=3)\n",
        "\n",
        "y = tf.keras.utils.to_categorical(y, num_classes=10)\n",
        "y = np.array(y)\n",
        "X /= 255.\n",
        "X,y = X[indexes], y[indexes]"
      ]
    },
    {
      "cell_type": "code",
      "execution_count": 6,
      "id": "3935dbb9",
      "metadata": {
        "colab": {
          "base_uri": "https://localhost:8080/"
        },
        "id": "3935dbb9",
        "outputId": "b9135c31-ab3f-43e7-9b15-a8855d35fd59"
      },
      "outputs": [
        {
          "output_type": "stream",
          "name": "stdout",
          "text": [
            "(60000, 10)\n",
            "[0. 0. 0. 0. 0. 1. 0. 0. 0. 0.]\n"
          ]
        }
      ],
      "source": [
        "print(y.shape)\n",
        "print(y[0])"
      ]
    },
    {
      "cell_type": "markdown",
      "id": "bea8ee8d",
      "metadata": {
        "id": "bea8ee8d"
      },
      "source": [
        "<h3>Splitting dataset</h3>"
      ]
    },
    {
      "cell_type": "code",
      "execution_count": 7,
      "id": "804c6756",
      "metadata": {
        "id": "804c6756"
      },
      "outputs": [],
      "source": [
        "train_split, val_split = .9, 0.07\n",
        "n_train = int(train_split * len(X))\n",
        "n_val = int(val_split * len(X))\n",
        "X_train, y_train = X[:n_train], y[:n_train]\n",
        "X_val, y_val = X[n_train:n_train + n_val], y[n_train:n_train + n_val]\n",
        "X_test, y_test = X[n_train + n_val:], y[n_train + n_val:]"
      ]
    },
    {
      "cell_type": "code",
      "execution_count": 8,
      "id": "7d166887",
      "metadata": {
        "colab": {
          "base_uri": "https://localhost:8080/"
        },
        "id": "7d166887",
        "outputId": "a451992d-edad-4be6-ba3e-5da614ee1b54"
      },
      "outputs": [
        {
          "output_type": "stream",
          "name": "stdout",
          "text": [
            "Shape X_train:  (54000, 28, 28, 1)\n",
            "Shape X_val:  (4200, 28, 28, 1)\n",
            "Shape X_test:  (1800, 28, 28, 1)\n"
          ]
        }
      ],
      "source": [
        "print(\"Shape X_train: \", X_train.shape)\n",
        "print(\"Shape X_val: \", X_val.shape)\n",
        "print(\"Shape X_test: \", X_test.shape)"
      ]
    },
    {
      "cell_type": "markdown",
      "id": "f8905bdd",
      "metadata": {
        "id": "f8905bdd"
      },
      "source": [
        "<h2>Defining the model</h2>"
      ]
    },
    {
      "cell_type": "code",
      "execution_count": 9,
      "id": "e33ceab2",
      "metadata": {
        "id": "e33ceab2"
      },
      "outputs": [],
      "source": [
        "def model_create(input_shape):\n",
        "    model = tf.keras.Sequential(name='nn_model')\n",
        "    \n",
        "    \n",
        "\n",
        "    model.add(tf.keras.layers.Conv2D(32, 3, activation='relu', padding='valid'))\n",
        "    model.add(tf.keras.layers.MaxPool2D(pool_size=(2,2)))\n",
        "    \n",
        "    model.add(tf.keras.layers.Conv2D(32, 3, activation='relu', padding='valid'))\n",
        "    model.add(tf.keras.layers.MaxPool2D(pool_size=(2,2)))\n",
        "    \n",
        "    model.add(tf.keras.layers.Conv2D(64, 3, activation='relu', padding='valid'))\n",
        "    model.add(tf.keras.layers.MaxPool2D(pool_size=(2,2), padding='same'))\n",
        "\n",
        "    \n",
        "    model.add(tf.keras.layers.Flatten())\n",
        "    model.add(tf.keras.layers.Dense(256, activation='relu'))\n",
        "    model.add(tf.keras.layers.Dense(128, activation='relu'))\n",
        "    model.add(tf.keras.layers.Dropout(0.3))\n",
        "    model.add(tf.keras.layers.Dense(64, activation='relu'))\n",
        "    model.add(tf.keras.layers.Dense(32, activation='relu'))\n",
        "    model.add(tf.keras.layers.Dense(10, activation='softmax'))\n",
        "    \n",
        "    model.compile(optimizer=tf.keras.optimizers.SGD(lr=1e-2), loss=tf.keras.losses.BinaryCrossentropy(), metrics='accuracy')\n",
        "    model.build(input_shape)\n",
        "    \n",
        "    model.summary()\n",
        "    return model"
      ]
    },
    {
      "cell_type": "code",
      "execution_count": 10,
      "id": "9e52c683",
      "metadata": {
        "colab": {
          "base_uri": "https://localhost:8080/"
        },
        "id": "9e52c683",
        "outputId": "a1dfde54-fd58-4aa5-9fab-4cb86310f5bd"
      },
      "outputs": [
        {
          "output_type": "stream",
          "name": "stdout",
          "text": [
            "Model: \"nn_model\"\n",
            "_________________________________________________________________\n",
            " Layer (type)                Output Shape              Param #   \n",
            "=================================================================\n",
            " conv2d (Conv2D)             (None, 26, 26, 32)        320       \n",
            "                                                                 \n",
            " max_pooling2d (MaxPooling2D  (None, 13, 13, 32)       0         \n",
            " )                                                               \n",
            "                                                                 \n",
            " conv2d_1 (Conv2D)           (None, 11, 11, 32)        9248      \n",
            "                                                                 \n",
            " max_pooling2d_1 (MaxPooling  (None, 5, 5, 32)         0         \n",
            " 2D)                                                             \n",
            "                                                                 \n",
            " conv2d_2 (Conv2D)           (None, 3, 3, 64)          18496     \n",
            "                                                                 \n",
            " max_pooling2d_2 (MaxPooling  (None, 2, 2, 64)         0         \n",
            " 2D)                                                             \n",
            "                                                                 \n",
            " flatten (Flatten)           (None, 256)               0         \n",
            "                                                                 \n",
            " dense (Dense)               (None, 256)               65792     \n",
            "                                                                 \n",
            " dense_1 (Dense)             (None, 128)               32896     \n",
            "                                                                 \n",
            " dropout (Dropout)           (None, 128)               0         \n",
            "                                                                 \n",
            " dense_2 (Dense)             (None, 64)                8256      \n",
            "                                                                 \n",
            " dense_3 (Dense)             (None, 32)                2080      \n",
            "                                                                 \n",
            " dense_4 (Dense)             (None, 10)                330       \n",
            "                                                                 \n",
            "=================================================================\n",
            "Total params: 137,418\n",
            "Trainable params: 137,418\n",
            "Non-trainable params: 0\n",
            "_________________________________________________________________\n"
          ]
        },
        {
          "output_type": "stream",
          "name": "stderr",
          "text": [
            "/usr/local/lib/python3.7/dist-packages/keras/optimizer_v2/gradient_descent.py:102: UserWarning: The `lr` argument is deprecated, use `learning_rate` instead.\n",
            "  super(SGD, self).__init__(name, **kwargs)\n"
          ]
        }
      ],
      "source": [
        "my_model = model_create((None,28,28,1))"
      ]
    },
    {
      "cell_type": "code",
      "execution_count": 11,
      "id": "4c87a9cd",
      "metadata": {
        "colab": {
          "base_uri": "https://localhost:8080/"
        },
        "id": "4c87a9cd",
        "outputId": "5f06f92c-5e53-4471-e64e-a3f6a318f68d"
      },
      "outputs": [
        {
          "output_type": "stream",
          "name": "stdout",
          "text": [
            "Epoch 1/50\n",
            "844/844 [==============================] - 20s 5ms/step - loss: 0.4444 - accuracy: 0.0992 - val_loss: 0.3269 - val_accuracy: 0.0993\n",
            "Epoch 2/50\n",
            "844/844 [==============================] - 4s 5ms/step - loss: 0.3306 - accuracy: 0.1183 - val_loss: 0.3250 - val_accuracy: 0.1367\n",
            "Epoch 3/50\n",
            "844/844 [==============================] - 4s 5ms/step - loss: 0.3280 - accuracy: 0.1392 - val_loss: 0.3230 - val_accuracy: 0.2071\n",
            "Epoch 4/50\n",
            "844/844 [==============================] - 6s 7ms/step - loss: 0.3255 - accuracy: 0.1661 - val_loss: 0.3195 - val_accuracy: 0.2800\n",
            "Epoch 5/50\n",
            "844/844 [==============================] - 7s 9ms/step - loss: 0.3211 - accuracy: 0.2254 - val_loss: 0.3132 - val_accuracy: 0.4783\n",
            "Epoch 6/50\n",
            "844/844 [==============================] - 5s 6ms/step - loss: 0.3111 - accuracy: 0.3170 - val_loss: 0.2936 - val_accuracy: 0.5331\n",
            "Epoch 7/50\n",
            "844/844 [==============================] - 4s 5ms/step - loss: 0.2791 - accuracy: 0.4237 - val_loss: 0.2401 - val_accuracy: 0.5912\n",
            "Epoch 8/50\n",
            "844/844 [==============================] - 4s 5ms/step - loss: 0.2216 - accuracy: 0.5695 - val_loss: 0.1734 - val_accuracy: 0.7140\n",
            "Epoch 9/50\n",
            "844/844 [==============================] - 4s 5ms/step - loss: 0.1665 - accuracy: 0.6937 - val_loss: 0.1276 - val_accuracy: 0.7736\n",
            "Epoch 10/50\n",
            "844/844 [==============================] - 4s 5ms/step - loss: 0.1310 - accuracy: 0.7657 - val_loss: 0.1010 - val_accuracy: 0.8326\n",
            "Epoch 11/50\n",
            "844/844 [==============================] - 4s 5ms/step - loss: 0.1087 - accuracy: 0.8177 - val_loss: 0.0832 - val_accuracy: 0.8676\n",
            "Epoch 12/50\n",
            "844/844 [==============================] - 4s 5ms/step - loss: 0.0923 - accuracy: 0.8536 - val_loss: 0.0697 - val_accuracy: 0.8960\n",
            "Epoch 13/50\n",
            "844/844 [==============================] - 5s 6ms/step - loss: 0.0796 - accuracy: 0.8764 - val_loss: 0.0600 - val_accuracy: 0.9067\n",
            "Epoch 14/50\n",
            "844/844 [==============================] - 5s 6ms/step - loss: 0.0699 - accuracy: 0.8924 - val_loss: 0.0534 - val_accuracy: 0.9176\n",
            "Epoch 15/50\n",
            "844/844 [==============================] - 5s 6ms/step - loss: 0.0626 - accuracy: 0.9045 - val_loss: 0.0471 - val_accuracy: 0.9245\n",
            "Epoch 16/50\n",
            "844/844 [==============================] - 4s 5ms/step - loss: 0.0567 - accuracy: 0.9134 - val_loss: 0.0430 - val_accuracy: 0.9305\n",
            "Epoch 17/50\n",
            "844/844 [==============================] - 4s 5ms/step - loss: 0.0522 - accuracy: 0.9201 - val_loss: 0.0419 - val_accuracy: 0.9286\n",
            "Epoch 18/50\n",
            "844/844 [==============================] - 4s 5ms/step - loss: 0.0487 - accuracy: 0.9252 - val_loss: 0.0392 - val_accuracy: 0.9364\n",
            "Epoch 19/50\n",
            "844/844 [==============================] - 5s 6ms/step - loss: 0.0453 - accuracy: 0.9306 - val_loss: 0.0350 - val_accuracy: 0.9407\n",
            "Epoch 20/50\n",
            "844/844 [==============================] - 5s 5ms/step - loss: 0.0422 - accuracy: 0.9363 - val_loss: 0.0319 - val_accuracy: 0.9474\n",
            "Epoch 21/50\n",
            "844/844 [==============================] - 5s 6ms/step - loss: 0.0398 - accuracy: 0.9391 - val_loss: 0.0317 - val_accuracy: 0.9483\n",
            "Epoch 22/50\n",
            "844/844 [==============================] - 5s 6ms/step - loss: 0.0380 - accuracy: 0.9420 - val_loss: 0.0291 - val_accuracy: 0.9510\n",
            "Epoch 23/50\n",
            "844/844 [==============================] - 5s 6ms/step - loss: 0.0360 - accuracy: 0.9450 - val_loss: 0.0275 - val_accuracy: 0.9555\n",
            "Epoch 24/50\n",
            "844/844 [==============================] - 5s 6ms/step - loss: 0.0340 - accuracy: 0.9491 - val_loss: 0.0258 - val_accuracy: 0.9564\n",
            "Epoch 25/50\n",
            "844/844 [==============================] - 6s 7ms/step - loss: 0.0326 - accuracy: 0.9511 - val_loss: 0.0247 - val_accuracy: 0.9586\n",
            "Epoch 26/50\n",
            "844/844 [==============================] - 5s 6ms/step - loss: 0.0317 - accuracy: 0.9511 - val_loss: 0.0242 - val_accuracy: 0.9588\n",
            "Epoch 27/50\n",
            "844/844 [==============================] - 4s 5ms/step - loss: 0.0301 - accuracy: 0.9544 - val_loss: 0.0229 - val_accuracy: 0.9605\n",
            "Epoch 28/50\n",
            "844/844 [==============================] - 5s 5ms/step - loss: 0.0289 - accuracy: 0.9566 - val_loss: 0.0220 - val_accuracy: 0.9638\n",
            "Epoch 29/50\n",
            "844/844 [==============================] - 4s 5ms/step - loss: 0.0281 - accuracy: 0.9572 - val_loss: 0.0212 - val_accuracy: 0.9645\n",
            "Epoch 30/50\n",
            "844/844 [==============================] - 4s 5ms/step - loss: 0.0270 - accuracy: 0.9592 - val_loss: 0.0206 - val_accuracy: 0.9662\n",
            "Epoch 31/50\n",
            "844/844 [==============================] - 4s 5ms/step - loss: 0.0264 - accuracy: 0.9593 - val_loss: 0.0205 - val_accuracy: 0.9671\n",
            "Epoch 32/50\n",
            "844/844 [==============================] - 4s 5ms/step - loss: 0.0255 - accuracy: 0.9618 - val_loss: 0.0195 - val_accuracy: 0.9671\n",
            "Epoch 33/50\n",
            "844/844 [==============================] - 4s 5ms/step - loss: 0.0250 - accuracy: 0.9615 - val_loss: 0.0190 - val_accuracy: 0.9688\n",
            "Epoch 34/50\n",
            "844/844 [==============================] - 4s 5ms/step - loss: 0.0241 - accuracy: 0.9638 - val_loss: 0.0183 - val_accuracy: 0.9710\n",
            "Epoch 35/50\n",
            "844/844 [==============================] - 4s 5ms/step - loss: 0.0235 - accuracy: 0.9646 - val_loss: 0.0180 - val_accuracy: 0.9712\n",
            "Epoch 36/50\n",
            "844/844 [==============================] - 4s 5ms/step - loss: 0.0231 - accuracy: 0.9655 - val_loss: 0.0173 - val_accuracy: 0.9726\n",
            "Epoch 37/50\n",
            "844/844 [==============================] - 4s 5ms/step - loss: 0.0223 - accuracy: 0.9661 - val_loss: 0.0174 - val_accuracy: 0.9731\n",
            "Epoch 38/50\n",
            "844/844 [==============================] - 4s 5ms/step - loss: 0.0217 - accuracy: 0.9675 - val_loss: 0.0167 - val_accuracy: 0.9731\n",
            "Epoch 39/50\n",
            "844/844 [==============================] - 4s 5ms/step - loss: 0.0211 - accuracy: 0.9679 - val_loss: 0.0165 - val_accuracy: 0.9729\n",
            "Epoch 40/50\n",
            "844/844 [==============================] - 4s 5ms/step - loss: 0.0209 - accuracy: 0.9681 - val_loss: 0.0161 - val_accuracy: 0.9740\n",
            "Epoch 41/50\n",
            "844/844 [==============================] - 4s 5ms/step - loss: 0.0208 - accuracy: 0.9685 - val_loss: 0.0156 - val_accuracy: 0.9764\n",
            "Epoch 42/50\n",
            "844/844 [==============================] - 4s 5ms/step - loss: 0.0199 - accuracy: 0.9701 - val_loss: 0.0154 - val_accuracy: 0.9762\n",
            "Epoch 43/50\n",
            "844/844 [==============================] - 4s 5ms/step - loss: 0.0196 - accuracy: 0.9703 - val_loss: 0.0154 - val_accuracy: 0.9757\n",
            "Epoch 44/50\n",
            "844/844 [==============================] - 4s 5ms/step - loss: 0.0194 - accuracy: 0.9708 - val_loss: 0.0153 - val_accuracy: 0.9764\n",
            "Epoch 45/50\n",
            "844/844 [==============================] - 4s 5ms/step - loss: 0.0190 - accuracy: 0.9712 - val_loss: 0.0148 - val_accuracy: 0.9752\n",
            "Epoch 46/50\n",
            "844/844 [==============================] - 4s 5ms/step - loss: 0.0186 - accuracy: 0.9716 - val_loss: 0.0142 - val_accuracy: 0.9771\n",
            "Epoch 47/50\n",
            "844/844 [==============================] - 4s 5ms/step - loss: 0.0182 - accuracy: 0.9731 - val_loss: 0.0140 - val_accuracy: 0.9793\n",
            "Epoch 48/50\n",
            "844/844 [==============================] - 4s 5ms/step - loss: 0.0181 - accuracy: 0.9728 - val_loss: 0.0150 - val_accuracy: 0.9755\n",
            "Epoch 49/50\n",
            "844/844 [==============================] - 4s 5ms/step - loss: 0.0174 - accuracy: 0.9743 - val_loss: 0.0139 - val_accuracy: 0.9776\n",
            "Epoch 50/50\n",
            "844/844 [==============================] - 4s 5ms/step - loss: 0.0174 - accuracy: 0.9738 - val_loss: 0.0148 - val_accuracy: 0.9757\n",
            "INFO:tensorflow:Assets written to: method3/model/assets\n"
          ]
        }
      ],
      "source": [
        "history = my_model.fit(X_train, y_train, batch_size=64, epochs=50, validation_data=(X_val,y_val), validation_batch_size=64)\n",
        "my_model.save('method3/model')"
      ]
    },
    {
      "cell_type": "markdown",
      "id": "51539f38",
      "metadata": {
        "id": "51539f38"
      },
      "source": [
        "<h2>Plotting accuracy and loss</h2>"
      ]
    },
    {
      "cell_type": "code",
      "execution_count": 12,
      "id": "16bf2e41",
      "metadata": {
        "colab": {
          "base_uri": "https://localhost:8080/",
          "height": 545
        },
        "id": "16bf2e41",
        "outputId": "0ba529b7-f309-4f42-b804-15773af3118d"
      },
      "outputs": [
        {
          "output_type": "display_data",
          "data": {
            "image/png": "[encoded data removed]",
            "text/plain": [
              "<Figure size 432x288 with 1 Axes>"
            ]
          },
          "metadata": {
            "needs_background": "light"
          }
        },
        {
          "output_type": "display_data",
          "data": {
            "image/png": "[encoded data removed]",
            "text/plain": [
              "<Figure size 432x288 with 1 Axes>"
            ]
          },
          "metadata": {
            "needs_background": "light"
          }
        }
      ],
      "source": [
        "acc = history.history['accuracy']\n",
        "loss = history.history['loss']\n",
        "\n",
        "val_acc = history.history['val_accuracy']\n",
        "val_loss = history.history['val_loss']\n",
        "\n",
        "plt.plot(range(15, len(acc) + 1), acc[14:])\n",
        "plt.plot(range(15, len(val_acc) + 1), val_acc[14:])\n",
        "plt.legend(['Train', 'Val'])\n",
        "plt.xlabel(\"Epochs\")\n",
        "plt.ylabel(\"Accuracy\")\n",
        "plt.title('Accuracy plot')\n",
        "plt.show()\n",
        "\n",
        "plt.figure()\n",
        "\n",
        "plt.plot(range(15, len(loss) + 1), loss[14:])\n",
        "plt.plot(range(15, len(val_loss) + 1), val_loss[14:])\n",
        "plt.legend(['Train', 'Val'])\n",
        "plt.ylabel(\"Loss\")\n",
        "plt.xlabel(\"Epochs\")\n",
        "plt.title('Loss plot')\n",
        "plt.show()"
      ]
    },
    {
      "cell_type": "code",
      "execution_count": 13,
      "id": "4ca07afb",
      "metadata": {
        "colab": {
          "base_uri": "https://localhost:8080/"
        },
        "id": "4ca07afb",
        "outputId": "9af34eba-e5f4-4df4-8ff1-5e2407f8939a"
      },
      "outputs": [
        {
          "output_type": "stream",
          "name": "stdout",
          "text": [
            "57/57 [==============================] - 0s 4ms/step - loss: 0.0194 - accuracy: 0.9678\n"
          ]
        },
        {
          "output_type": "execute_result",
          "data": {
            "text/plain": [
              "[0.019418267533183098, 0.9677777886390686]"
            ]
          },
          "metadata": {},
          "execution_count": 13
        }
      ],
      "source": [
        "# Evaluating the trained model\n",
        "my_model.evaluate(X_test, y_test)"
      ]
    },
    {
      "cell_type": "code",
      "execution_count": null,
      "id": "d7f7f656",
      "metadata": {
        "collapsed": true,
        "id": "d7f7f656"
      },
      "outputs": [],
      "source": [
        "# Command used to convert to a portable format which can be used on opencv for inference\n",
        "!pip install  tf2onnx\n",
        "!python3 -m tf2onnx.convert --saved-model \"method3/model\" --output \"method3/cnn_model.onnx\""
      ]
    },
    {
      "cell_type": "code",
      "execution_count": 19,
      "id": "66df8dd4",
      "metadata": {
        "id": "66df8dd4"
      },
      "outputs": [],
      "source": [
        "# Loading the model in the onnx format \n",
        "loaded_model = cv.dnn.readNetFromONNX('method3/cnn_model.onnx')"
      ]
    },
    {
      "cell_type": "code",
      "source": [
        "!ls method3"
      ],
      "metadata": {
        "colab": {
          "base_uri": "https://localhost:8080/"
        },
        "id": "lqJWht25b4Ua",
        "outputId": "45553bfb-d118-467d-c3b5-e2242989e335"
      },
      "id": "lqJWht25b4Ua",
      "execution_count": 20,
      "outputs": [
        {
          "output_type": "stream",
          "name": "stdout",
          "text": [
            "cnn_model.onnx\tmodel\n"
          ]
        }
      ]
    },
    {
      "cell_type": "markdown",
      "source": [
        "Let's check the output of our model for a sample"
      ],
      "metadata": {
        "id": "vNzhFoEIbF7C"
      },
      "id": "vNzhFoEIbF7C"
    },
    {
      "cell_type": "code",
      "execution_count": 34,
      "id": "1b99e371",
      "metadata": {
        "id": "1b99e371"
      },
      "outputs": [],
      "source": [
        "loaded_model.setInput(X[0])"
      ]
    },
    {
      "cell_type": "code",
      "execution_count": 35,
      "id": "aa595976",
      "metadata": {
        "id": "aa595976"
      },
      "outputs": [],
      "source": [
        "y_0 = loaded_model.forward()"
      ]
    },
    {
      "cell_type": "code",
      "execution_count": 39,
      "id": "b2862763",
      "metadata": {
        "colab": {
          "base_uri": "https://localhost:8080/"
        },
        "id": "b2862763",
        "outputId": "948d51f1-ee7c-44f8-879e-08cd55cd4388"
      },
      "outputs": [
        {
          "output_type": "stream",
          "name": "stdout",
          "text": [
            "Probabilities predicted\n",
            " [[3.7061031e-13 6.8934386e-11 2.1821733e-13 2.1819680e-08 1.1979357e-15\n",
            "  1.0000000e+00 1.9472524e-11 8.9391534e-14 1.8758194e-10 6.6238390e-11]]\n"
          ]
        }
      ],
      "source": [
        "print(\"Probabilities predicted\\n\", y_0)"
      ]
    },
    {
      "cell_type": "code",
      "execution_count": 40,
      "id": "e293fbaf",
      "metadata": {
        "colab": {
          "base_uri": "https://localhost:8080/"
        },
        "id": "e293fbaf",
        "outputId": "70cebae9-d83f-4602-ff43-e0963ff06bd6"
      },
      "outputs": [
        {
          "output_type": "stream",
          "name": "stdout",
          "text": [
            "The digit predicted is 5\n"
          ]
        }
      ],
      "source": [
        "print(\"The digit predicted is\", np.argmax(y_0))"
      ]
    },
    {
      "cell_type": "code",
      "execution_count": 41,
      "id": "5674dfc4",
      "metadata": {
        "colab": {
          "base_uri": "https://localhost:8080/",
          "height": 282
        },
        "id": "5674dfc4",
        "outputId": "06e1fe26-3e0b-41fd-94c3-1e23097b462b"
      },
      "outputs": [
        {
          "output_type": "execute_result",
          "data": {
            "text/plain": [
              "<matplotlib.image.AxesImage at 0x7fab45c9e650>"
            ]
          },
          "metadata": {},
          "execution_count": 41
        },
        {
          "output_type": "display_data",
          "data": {
            "image/png": "[encoded data removed]",
            "text/plain": [
              "<Figure size 432x288 with 1 Axes>"
            ]
          },
          "metadata": {
            "needs_background": "light"
          }
        }
      ],
      "source": [
        "# Verifying the prediction\n",
        "plt.imshow(X[0][...,0], cmap=\"gray\")"
      ]
    }
  ],
  "metadata": {
    "kernelspec": {
      "display_name": "Python 3 (ipykernel)",
      "language": "python",
      "name": "python3"
    },
    "language_info": {
      "codemirror_mode": {
        "name": "ipython",
        "version": 3
      },
      "file_extension": ".py",
      "mimetype": "text/x-python",
      "name": "python",
      "nbconvert_exporter": "python",
      "pygments_lexer": "ipython3",
      "version": "3.8.10"
    },
    "colab": {
      "name": "cnn-ann.ipynb",
      "provenance": []
    },
    "accelerator": "GPU"
  },
  "nbformat": 4,
  "nbformat_minor": 5
}