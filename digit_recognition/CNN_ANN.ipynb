{
 "cells": [
  {
   "cell_type": "markdown",
   "metadata": {},
   "source": [
    "Trained on Windows 10, necessitates the installation of Tensorflow, numpy, matplotlib and opencv.\n",
    "To being able to save the weights, a folder \"method3\" should be created on the disk. "
   ]
  },
  {
   "cell_type": "markdown",
   "metadata": {},
   "source": [
    "<h3>Ressources used for the following code</h3>\n",
    "<br>1. https://www.codeproject.com/Articles/5278503/Making-TensorFlow-Models-Portable-Using-ONNX <br>\n",
    "    2. https://learning.oreilly.com/library/view/deep-learning-with/9781617294433/OEBPS/Text/05.xhtml <strong>Chap. 5, Deep Learning with Python by François Chollet.</strong>"
   ]
  },
  {
   "cell_type": "code",
   "execution_count": 1,
   "metadata": {},
   "outputs": [],
   "source": [
    "import tensorflow as tf\n",
    "import os\n",
    "import random as rd\n",
    "import matplotlib.pyplot as plt\n",
    "import cv2 as cv\n",
    "import numpy as np"
   ]
  },
  {
   "cell_type": "markdown",
   "metadata": {},
   "source": [
    "<h2>Loading and preprocessing</h2>"
   ]
  },
  {
   "cell_type": "code",
   "execution_count": 3,
   "metadata": {},
   "outputs": [],
   "source": [
    "IMAGE_DIR = 'training/'\n",
    "dir_list = os.listdir(IMAGE_DIR)\n",
    "X,y = [], []"
   ]
  },
  {
   "cell_type": "code",
   "execution_count": 4,
   "metadata": {},
   "outputs": [
    {
     "ename": "KeyboardInterrupt",
     "evalue": "",
     "output_type": "error",
     "traceback": [
      "\u001b[0;31m---------------------------------------------------------------------------\u001b[0m",
      "\u001b[0;31mKeyboardInterrupt\u001b[0m                         Traceback (most recent call last)",
      "\u001b[0;32m<ipython-input-4-e1d008c09789>\u001b[0m in \u001b[0;36m<module>\u001b[0;34m\u001b[0m\n\u001b[1;32m      2\u001b[0m     \u001b[0mfile_names\u001b[0m \u001b[0;34m=\u001b[0m \u001b[0mos\u001b[0m\u001b[0;34m.\u001b[0m\u001b[0mlistdir\u001b[0m\u001b[0;34m(\u001b[0m\u001b[0mIMAGE_DIR\u001b[0m \u001b[0;34m+\u001b[0m \u001b[0mdir_name\u001b[0m\u001b[0;34m)\u001b[0m\u001b[0;34m\u001b[0m\u001b[0;34m\u001b[0m\u001b[0m\n\u001b[1;32m      3\u001b[0m     \u001b[0;32mfor\u001b[0m \u001b[0mfile_name\u001b[0m \u001b[0;32min\u001b[0m \u001b[0mfile_names\u001b[0m\u001b[0;34m:\u001b[0m\u001b[0;34m\u001b[0m\u001b[0;34m\u001b[0m\u001b[0m\n\u001b[0;32m----> 4\u001b[0;31m         \u001b[0mimg\u001b[0m \u001b[0;34m=\u001b[0m \u001b[0mcv\u001b[0m\u001b[0;34m.\u001b[0m\u001b[0mimread\u001b[0m\u001b[0;34m(\u001b[0m\u001b[0mIMAGE_DIR\u001b[0m \u001b[0;34m+\u001b[0m \u001b[0mdir_name\u001b[0m \u001b[0;34m+\u001b[0m \u001b[0;34m\"/\"\u001b[0m \u001b[0;34m+\u001b[0m \u001b[0mfile_name\u001b[0m\u001b[0;34m,\u001b[0m \u001b[0mcv\u001b[0m\u001b[0;34m.\u001b[0m\u001b[0mIMREAD_GRAYSCALE\u001b[0m\u001b[0;34m)\u001b[0m\u001b[0;34m\u001b[0m\u001b[0;34m\u001b[0m\u001b[0m\n\u001b[0m\u001b[1;32m      5\u001b[0m         \u001b[0;31m#img.astype('float') look into it later\u001b[0m\u001b[0;34m\u001b[0m\u001b[0;34m\u001b[0m\u001b[0;34m\u001b[0m\u001b[0m\n\u001b[1;32m      6\u001b[0m         \u001b[0mX\u001b[0m\u001b[0;34m.\u001b[0m\u001b[0mappend\u001b[0m\u001b[0;34m(\u001b[0m\u001b[0mimg\u001b[0m\u001b[0;34m)\u001b[0m\u001b[0;34m\u001b[0m\u001b[0;34m\u001b[0m\u001b[0m\n",
      "\u001b[0;31mKeyboardInterrupt\u001b[0m: "
     ]
    }
   ],
   "source": [
    "for dir_name in dir_list:\n",
    "    file_names = os.listdir(IMAGE_DIR + dir_name)\n",
    "    for file_name in file_names:\n",
    "        img = cv.imread(IMAGE_DIR + dir_name + \"/\" + file_name, cv.IMREAD_GRAYSCALE)\n",
    "        #img.astype('float') look into it later\n",
    "        X.append(img)\n",
    "        y.append(int(dir_name))\n",
    "\n",
    "\n"
   ]
  },
  {
   "cell_type": "markdown",
   "metadata": {},
   "source": [
    "<h3>Shuffling and scaling the images</h3>"
   ]
  },
  {
   "cell_type": "code",
   "execution_count": null,
   "metadata": {},
   "outputs": [],
   "source": [
    "indexes = list(range(len(X)))\n",
    "rd.shuffle(indexes)\n",
    "\n",
    "X = np.array(X,dtype='float')\n",
    "X = np.expand_dims(X, axis=3)\n",
    "\n",
    "y = tf.keras.utils.to_categorical(y, num_classes=10)\n",
    "y = np.array(y)\n",
    "X /= 255.\n",
    "X,y = X[indexes], y[indexes]"
   ]
  },
  {
   "cell_type": "code",
   "execution_count": null,
   "metadata": {},
   "outputs": [],
   "source": [
    "print(y.shape)\n",
    "print(y[0])"
   ]
  },
  {
   "cell_type": "markdown",
   "metadata": {},
   "source": [
    "<h3>Splitting dataset</h3>"
   ]
  },
  {
   "cell_type": "code",
   "execution_count": 5,
   "metadata": {},
   "outputs": [],
   "source": [
    "train_split, val_split = .9, 0.07\n",
    "n_train = int(train_split * len(X))\n",
    "n_val = int(val_split * len(X))\n",
    "X_train, y_train = X[:n_train], y[:n_train]\n",
    "X_val, y_val = X[n_train:n_train + n_val], y[n_train:n_train + n_val]\n",
    "X_test, y_test = X[n_train + n_val:], y[n_train + n_val:]"
   ]
  },
  {
   "cell_type": "code",
   "execution_count": 6,
   "metadata": {},
   "outputs": [
    {
     "name": "stdout",
     "output_type": "stream",
     "text": [
      "Shape X_train:  (54000, 28, 28, 1)\n",
      "Shape X_val:  (4200, 28, 28, 1)\n",
      "Shape X_test:  (1800, 28, 28, 1)\n"
     ]
    }
   ],
   "source": [
    "print(\"Shape X_train: \", X_train.shape)\n",
    "print(\"Shape X_val: \", X_val.shape)\n",
    "print(\"Shape X_test: \", X_test.shape)"
   ]
  },
  {
   "cell_type": "markdown",
   "metadata": {},
   "source": [
    "<h2>Defining the model</h2>"
   ]
  },
  {
   "cell_type": "code",
   "execution_count": 13,
   "metadata": {},
   "outputs": [],
   "source": [
    "def model_create(input_shape):\n",
    "    model = tf.keras.Sequential(name='nn_model')\n",
    "    \n",
    "    \n",
    "\n",
    "    model.add(tf.keras.layers.Conv2D(32, 3, activation='relu', padding='valid'))\n",
    "    model.add(tf.keras.layers.MaxPool2D(pool_size=(2,2)))\n",
    "    \n",
    "    model.add(tf.keras.layers.Conv2D(32, 3, activation='relu', padding='valid'))\n",
    "    model.add(tf.keras.layers.MaxPool2D(pool_size=(2,2)))\n",
    "    \n",
    "    model.add(tf.keras.layers.Conv2D(64, 3, activation='relu', padding='valid'))\n",
    "    model.add(tf.keras.layers.MaxPool2D(pool_size=(2,2), padding='same'))\n",
    "\n",
    "    \n",
    "    model.add(tf.keras.layers.Flatten())\n",
    "    model.add(tf.keras.layers.Dense(256, activation='relu'))\n",
    "    model.add(tf.keras.layers.Dense(128, activation='relu'))\n",
    "    model.add(tf.keras.layers.Dropout(0.3))\n",
    "    model.add(tf.keras.layers.Dense(64, activation='relu'))\n",
    "    model.add(tf.keras.layers.Dense(32, activation='relu'))\n",
    "    model.add(tf.keras.layers.Dense(10, activation='softmax'))\n",
    "    \n",
    "    model.compile(optimizer=tf.keras.optimizers.SGD(lr=1e-2), loss=tf.keras.losses.BinaryCrossentropy(), metrics='accuracy')\n",
    "    model.build(input_shape)\n",
    "    \n",
    "    model.summary()\n",
    "    return model"
   ]
  },
  {
   "cell_type": "code",
   "execution_count": 14,
   "metadata": {},
   "outputs": [
    {
     "name": "stdout",
     "output_type": "stream",
     "text": [
      "Model: \"nn_model\"\n",
      "_________________________________________________________________\n",
      "Layer (type)                 Output Shape              Param #   \n",
      "=================================================================\n",
      "conv2d_9 (Conv2D)            (None, 26, 26, 32)        320       \n",
      "_________________________________________________________________\n",
      "max_pooling2d_9 (MaxPooling2 (None, 13, 13, 32)        0         \n",
      "_________________________________________________________________\n",
      "conv2d_10 (Conv2D)           (None, 11, 11, 32)        9248      \n",
      "_________________________________________________________________\n",
      "max_pooling2d_10 (MaxPooling (None, 5, 5, 32)          0         \n",
      "_________________________________________________________________\n",
      "conv2d_11 (Conv2D)           (None, 3, 3, 64)          18496     \n",
      "_________________________________________________________________\n",
      "max_pooling2d_11 (MaxPooling (None, 2, 2, 64)          0         \n",
      "_________________________________________________________________\n",
      "flatten_3 (Flatten)          (None, 256)               0         \n",
      "_________________________________________________________________\n",
      "dense_15 (Dense)             (None, 256)               65792     \n",
      "_________________________________________________________________\n",
      "dense_16 (Dense)             (None, 128)               32896     \n",
      "_________________________________________________________________\n",
      "dropout_3 (Dropout)          (None, 128)               0         \n",
      "_________________________________________________________________\n",
      "dense_17 (Dense)             (None, 64)                8256      \n",
      "_________________________________________________________________\n",
      "dense_18 (Dense)             (None, 32)                2080      \n",
      "_________________________________________________________________\n",
      "dense_19 (Dense)             (None, 10)                330       \n",
      "=================================================================\n",
      "Total params: 137,418\n",
      "Trainable params: 137,418\n",
      "Non-trainable params: 0\n",
      "_________________________________________________________________\n"
     ]
    }
   ],
   "source": [
    "my_model = model_create((None,28,28,1))"
   ]
  },
  {
   "cell_type": "code",
   "execution_count": 15,
   "metadata": {},
   "outputs": [
    {
     "name": "stderr",
     "output_type": "stream",
     "text": [
      "2021-11-07 15:12:36.833904: I tensorflow/compiler/mlir/mlir_graph_optimization_pass.cc:185] None of the MLIR Optimization Passes are enabled (registered 2)\n"
     ]
    },
    {
     "name": "stdout",
     "output_type": "stream",
     "text": [
      "Epoch 1/50\n",
      "844/844 [==============================] - 29s 32ms/step - loss: 0.4205 - accuracy: 0.1062 - val_loss: 0.3258 - val_accuracy: 0.0960\n",
      "Epoch 2/50\n",
      "844/844 [==============================] - 27s 32ms/step - loss: 0.3292 - accuracy: 0.1204 - val_loss: 0.3240 - val_accuracy: 0.0969\n",
      "Epoch 3/50\n",
      "844/844 [==============================] - 28s 34ms/step - loss: 0.3267 - accuracy: 0.1400 - val_loss: 0.3216 - val_accuracy: 0.3090\n",
      "Epoch 4/50\n",
      "844/844 [==============================] - 28s 33ms/step - loss: 0.3233 - accuracy: 0.1740 - val_loss: 0.3171 - val_accuracy: 0.3543\n",
      "Epoch 5/50\n",
      "844/844 [==============================] - 28s 33ms/step - loss: 0.3164 - accuracy: 0.2286 - val_loss: 0.3041 - val_accuracy: 0.3855\n",
      "Epoch 6/50\n",
      "844/844 [==============================] - 27s 32ms/step - loss: 0.2937 - accuracy: 0.3171 - val_loss: 0.2631 - val_accuracy: 0.5093\n",
      "Epoch 7/50\n",
      "844/844 [==============================] - 27s 32ms/step - loss: 0.2488 - accuracy: 0.4741 - val_loss: 0.2123 - val_accuracy: 0.6067\n",
      "Epoch 8/50\n",
      "844/844 [==============================] - 27s 32ms/step - loss: 0.2033 - accuracy: 0.6196 - val_loss: 0.1640 - val_accuracy: 0.7540\n",
      "Epoch 9/50\n",
      "844/844 [==============================] - 26s 31ms/step - loss: 0.1602 - accuracy: 0.7246 - val_loss: 0.1220 - val_accuracy: 0.8183\n",
      "Epoch 10/50\n",
      "844/844 [==============================] - 27s 32ms/step - loss: 0.1260 - accuracy: 0.7951 - val_loss: 0.0964 - val_accuracy: 0.8560\n",
      "Epoch 11/50\n",
      "844/844 [==============================] - 27s 32ms/step - loss: 0.1042 - accuracy: 0.8344 - val_loss: 0.0789 - val_accuracy: 0.8783\n",
      "Epoch 12/50\n",
      "844/844 [==============================] - 28s 33ms/step - loss: 0.0891 - accuracy: 0.8622 - val_loss: 0.0676 - val_accuracy: 0.8960\n",
      "Epoch 13/50\n",
      "844/844 [==============================] - 27s 32ms/step - loss: 0.0775 - accuracy: 0.8814 - val_loss: 0.0580 - val_accuracy: 0.9112\n",
      "Epoch 14/50\n",
      "844/844 [==============================] - 26s 31ms/step - loss: 0.0684 - accuracy: 0.8960 - val_loss: 0.0521 - val_accuracy: 0.9190\n",
      "Epoch 15/50\n",
      "844/844 [==============================] - 27s 32ms/step - loss: 0.0615 - accuracy: 0.9053 - val_loss: 0.0475 - val_accuracy: 0.9238\n",
      "Epoch 16/50\n",
      "844/844 [==============================] - 26s 31ms/step - loss: 0.0558 - accuracy: 0.9153 - val_loss: 0.0427 - val_accuracy: 0.9338\n",
      "Epoch 17/50\n",
      "844/844 [==============================] - 26s 31ms/step - loss: 0.0511 - accuracy: 0.9233 - val_loss: 0.0391 - val_accuracy: 0.9355\n",
      "Epoch 18/50\n",
      "844/844 [==============================] - 26s 31ms/step - loss: 0.0472 - accuracy: 0.9293 - val_loss: 0.0360 - val_accuracy: 0.9407\n",
      "Epoch 19/50\n",
      "844/844 [==============================] - 26s 31ms/step - loss: 0.0441 - accuracy: 0.9318 - val_loss: 0.0337 - val_accuracy: 0.9424\n",
      "Epoch 20/50\n",
      "844/844 [==============================] - 27s 32ms/step - loss: 0.0411 - accuracy: 0.9376 - val_loss: 0.0314 - val_accuracy: 0.9457\n",
      "Epoch 21/50\n",
      "844/844 [==============================] - 27s 32ms/step - loss: 0.0389 - accuracy: 0.9414 - val_loss: 0.0300 - val_accuracy: 0.9502\n",
      "Epoch 22/50\n",
      "844/844 [==============================] - 26s 31ms/step - loss: 0.0368 - accuracy: 0.9455 - val_loss: 0.0284 - val_accuracy: 0.9543\n",
      "Epoch 23/50\n",
      "844/844 [==============================] - 27s 31ms/step - loss: 0.0349 - accuracy: 0.9470 - val_loss: 0.0275 - val_accuracy: 0.9538\n",
      "Epoch 24/50\n",
      "844/844 [==============================] - 26s 31ms/step - loss: 0.0335 - accuracy: 0.9499 - val_loss: 0.0289 - val_accuracy: 0.9505\n",
      "Epoch 25/50\n",
      "844/844 [==============================] - 26s 31ms/step - loss: 0.0320 - accuracy: 0.9516 - val_loss: 0.0255 - val_accuracy: 0.9574\n",
      "Epoch 26/50\n",
      "844/844 [==============================] - 26s 31ms/step - loss: 0.0305 - accuracy: 0.9533 - val_loss: 0.0253 - val_accuracy: 0.9576\n",
      "Epoch 27/50\n",
      "844/844 [==============================] - 26s 31ms/step - loss: 0.0294 - accuracy: 0.9552 - val_loss: 0.0238 - val_accuracy: 0.9610\n",
      "Epoch 28/50\n",
      "844/844 [==============================] - 26s 31ms/step - loss: 0.0287 - accuracy: 0.9565 - val_loss: 0.0227 - val_accuracy: 0.9643\n",
      "Epoch 29/50\n",
      "844/844 [==============================] - 25s 30ms/step - loss: 0.0272 - accuracy: 0.9594 - val_loss: 0.0221 - val_accuracy: 0.9638\n",
      "Epoch 30/50\n",
      "844/844 [==============================] - 26s 31ms/step - loss: 0.0266 - accuracy: 0.9599 - val_loss: 0.0239 - val_accuracy: 0.9595\n",
      "Epoch 31/50\n",
      "844/844 [==============================] - 26s 31ms/step - loss: 0.0259 - accuracy: 0.9609 - val_loss: 0.0212 - val_accuracy: 0.9667\n",
      "Epoch 32/50\n",
      "844/844 [==============================] - 26s 31ms/step - loss: 0.0248 - accuracy: 0.9624 - val_loss: 0.0201 - val_accuracy: 0.9674\n",
      "Epoch 33/50\n",
      "844/844 [==============================] - 26s 30ms/step - loss: 0.0242 - accuracy: 0.9634 - val_loss: 0.0201 - val_accuracy: 0.9674\n",
      "Epoch 34/50\n",
      "844/844 [==============================] - 25s 29ms/step - loss: 0.0235 - accuracy: 0.9651 - val_loss: 0.0193 - val_accuracy: 0.9681\n",
      "Epoch 35/50\n",
      "844/844 [==============================] - 25s 30ms/step - loss: 0.0233 - accuracy: 0.9653 - val_loss: 0.0188 - val_accuracy: 0.9702\n",
      "Epoch 36/50\n",
      "844/844 [==============================] - 25s 29ms/step - loss: 0.0224 - accuracy: 0.9661 - val_loss: 0.0183 - val_accuracy: 0.9695\n",
      "Epoch 37/50\n",
      "844/844 [==============================] - 25s 29ms/step - loss: 0.0219 - accuracy: 0.9672 - val_loss: 0.0179 - val_accuracy: 0.9712\n",
      "Epoch 38/50\n",
      "844/844 [==============================] - 25s 30ms/step - loss: 0.0214 - accuracy: 0.9677 - val_loss: 0.0176 - val_accuracy: 0.9731\n",
      "Epoch 39/50\n",
      "844/844 [==============================] - 25s 30ms/step - loss: 0.0210 - accuracy: 0.9675 - val_loss: 0.0171 - val_accuracy: 0.9710\n",
      "Epoch 40/50\n",
      "844/844 [==============================] - 25s 29ms/step - loss: 0.0206 - accuracy: 0.9690 - val_loss: 0.0173 - val_accuracy: 0.9726\n",
      "Epoch 41/50\n",
      "844/844 [==============================] - 26s 30ms/step - loss: 0.0203 - accuracy: 0.9694 - val_loss: 0.0180 - val_accuracy: 0.9707\n",
      "Epoch 42/50\n",
      "844/844 [==============================] - 26s 31ms/step - loss: 0.0198 - accuracy: 0.9699 - val_loss: 0.0165 - val_accuracy: 0.9740\n",
      "Epoch 43/50\n",
      "844/844 [==============================] - 27s 31ms/step - loss: 0.0193 - accuracy: 0.9708 - val_loss: 0.0171 - val_accuracy: 0.9726\n",
      "Epoch 44/50\n",
      "844/844 [==============================] - 26s 31ms/step - loss: 0.0191 - accuracy: 0.9705 - val_loss: 0.0163 - val_accuracy: 0.9726\n",
      "Epoch 45/50\n",
      "844/844 [==============================] - 26s 31ms/step - loss: 0.0187 - accuracy: 0.9715 - val_loss: 0.0153 - val_accuracy: 0.9750\n",
      "Epoch 46/50\n",
      "844/844 [==============================] - 26s 30ms/step - loss: 0.0184 - accuracy: 0.9717 - val_loss: 0.0152 - val_accuracy: 0.9764\n",
      "Epoch 47/50\n",
      "844/844 [==============================] - 26s 31ms/step - loss: 0.0180 - accuracy: 0.9731 - val_loss: 0.0149 - val_accuracy: 0.9774\n",
      "Epoch 48/50\n",
      "844/844 [==============================] - 26s 31ms/step - loss: 0.0176 - accuracy: 0.9736 - val_loss: 0.0153 - val_accuracy: 0.9755\n",
      "Epoch 49/50\n",
      "844/844 [==============================] - 26s 31ms/step - loss: 0.0177 - accuracy: 0.9727 - val_loss: 0.0148 - val_accuracy: 0.9762\n",
      "Epoch 50/50\n",
      "844/844 [==============================] - 26s 31ms/step - loss: 0.0173 - accuracy: 0.9738 - val_loss: 0.0148 - val_accuracy: 0.9774\n"
     ]
    }
   ],
   "source": [
    "history = my_model.fit(X_train, y_train, batch_size=64, epochs=50, validation_data=(X_val,y_val), validation_batch_size=64)\n",
    "my_model.save('method3/model')"
   ]
  },
  {
   "cell_type": "markdown",
   "metadata": {},
   "source": [
    "<h2>Plotting accuracy and loss</h2>"
   ]
  },
  {
   "cell_type": "code",
   "execution_count": 18,
   "metadata": {},
   "outputs": [
    {
     "data": {
      "image/png": "[encoded data removed]",
      "text/plain": [
       "<Figure size 432x288 with 1 Axes>"
      ]
     },
     "metadata": {
      "needs_background": "light"
     },
     "output_type": "display_data"
    },
    {
     "data": {
      "image/png": "[encoded data removed]",
      "text/plain": [
       "<Figure size 432x288 with 1 Axes>"
      ]
     },
     "metadata": {
      "needs_background": "light"
     },
     "output_type": "display_data"
    }
   ],
   "source": [
    "acc = history.history['accuracy']\n",
    "loss = history.history['loss']\n",
    "\n",
    "val_acc = history.history['val_accuracy']\n",
    "val_loss = history.history['val_loss']\n",
    "\n",
    "plt.plot(range(15, len(acc) + 1), acc[14:])\n",
    "plt.plot(range(15, len(val_acc) + 1), val_acc[14:])\n",
    "plt.legend(['Train', 'Val'])\n",
    "plt.title('Accuracy plot')\n",
    "plt.show()\n",
    "\n",
    "plt.figure()\n",
    "\n",
    "plt.plot(range(15, len(loss) + 1), loss[14:])\n",
    "plt.plot(range(15, len(val_loss) + 1), val_loss[14:])\n",
    "plt.legend(['Train', 'Val'])\n",
    "plt.title('Loss plot')\n",
    "plt.show()"
   ]
  },
  {
   "cell_type": "code",
   "execution_count": 17,
   "metadata": {},
   "outputs": [
    {
     "name": "stdout",
     "output_type": "stream",
     "text": [
      "57/57 [==============================] - 0s 6ms/step - loss: 0.0156 - accuracy: 0.9700\n"
     ]
    },
    {
     "data": {
      "text/plain": [
       "[0.01559815276414156, 0.9700000286102295]"
      ]
     },
     "execution_count": 17,
     "metadata": {},
     "output_type": "execute_result"
    }
   ],
   "source": [
    "my_model.evaluate(X_test, y_test)"
   ]
  },
  {
   "cell_type": "code",
   "execution_count": 20,
   "metadata": {
    "collapsed": true
   },
   "outputs": [
    {
     "name": "stdout",
     "output_type": "stream",
     "text": [
      "2021-11-07 17:56:35.217677: W tensorflow/stream_executor/platform/default/dso_loader.cc:64] Could not load dynamic library 'libcudart.so.11.0'; dlerror: libcudart.so.11.0: cannot open shared object file: No such file or directory\n",
      "2021-11-07 17:56:35.217814: I tensorflow/stream_executor/cuda/cudart_stub.cc:29] Ignore above cudart dlerror if you do not have a GPU set up on your machine.\n",
      "/usr/lib/python3.8/runpy.py:127: RuntimeWarning: 'tf2onnx.convert' found in sys.modules after import of package 'tf2onnx', but prior to execution of 'tf2onnx.convert'; this may result in unpredictable behaviour\n",
      "  warn(RuntimeWarning(msg))\n",
      "2021-11-07 17:56:40.902920: W tensorflow/stream_executor/platform/default/dso_loader.cc:64] Could not load dynamic library 'libcuda.so.1'; dlerror: libcuda.so.1: cannot open shared object file: No such file or directory\n",
      "2021-11-07 17:56:40.903101: W tensorflow/stream_executor/cuda/cuda_driver.cc:269] failed call to cuInit: UNKNOWN ERROR (303)\n",
      "2021-11-07 17:56:40.903255: I tensorflow/stream_executor/cuda/cuda_diagnostics.cc:156] kernel driver does not appear to be running on this host (DESKTOP-AFGN030): /proc/driver/nvidia/version does not exist\n",
      "2021-11-07 17:56:40.904046: I tensorflow/core/platform/cpu_feature_guard.cc:142] This TensorFlow binary is optimized with oneAPI Deep Neural Network Library (oneDNN) to use the following CPU instructions in performance-critical operations:  AVX2 FMA\n",
      "To enable them in other operations, rebuild TensorFlow with the appropriate compiler flags.\n",
      "2021-11-07 17:56:40,911 - WARNING - '--tag' not specified for saved_model. Using --tag serve\n",
      "2021-11-07 17:56:41,895 - INFO - Signatures found in model: [serving_default].\n",
      "2021-11-07 17:56:41,895 - WARNING - '--signature_def' not specified, using first signature: serving_default\n",
      "2021-11-07 17:56:41,895 - INFO - Output names: ['dense_19']\n",
      "2021-11-07 17:56:41.902319: I tensorflow/core/grappler/devices.cc:66] Number of eligible GPUs (core count >= 8, compute capability >= 0.0): 0\n",
      "2021-11-07 17:56:41.904677: I tensorflow/core/grappler/clusters/single_machine.cc:357] Starting new session\n",
      "2021-11-07 17:56:41.944067: I tensorflow/core/grappler/optimizers/meta_optimizer.cc:1137] Optimization results for grappler item: graph_to_optimize\n",
      "  function_optimizer: Graph size after: 86 nodes (66), 117 edges (97), time = 12.686ms.\n",
      "  function_optimizer: function_optimizer did nothing. time = 0.106ms.\n",
      "\n",
      "WARNING:tensorflow:From /usr/local/lib/python3.8/dist-packages/tf2onnx/tf_loader.py:703: extract_sub_graph (from tensorflow.python.framework.graph_util_impl) is deprecated and will be removed in a future version.\n",
      "Instructions for updating:\n",
      "Use `tf.compat.v1.graph_util.extract_sub_graph`\n",
      "2021-11-07 17:56:42,150 - WARNING - From /usr/local/lib/python3.8/dist-packages/tf2onnx/tf_loader.py:703: extract_sub_graph (from tensorflow.python.framework.graph_util_impl) is deprecated and will be removed in a future version.\n",
      "Instructions for updating:\n",
      "Use `tf.compat.v1.graph_util.extract_sub_graph`\n",
      "2021-11-07 17:56:42.157410: I tensorflow/core/grappler/devices.cc:66] Number of eligible GPUs (core count >= 8, compute capability >= 0.0): 0\n",
      "2021-11-07 17:56:42.158378: I tensorflow/core/grappler/clusters/single_machine.cc:357] Starting new session\n",
      "2021-11-07 17:56:42.187494: I tensorflow/core/grappler/optimizers/meta_optimizer.cc:1137] Optimization results for grappler item: graph_to_optimize\n",
      "  constant_folding: Graph size after: 54 nodes (-32), 85 edges (-32), time = 15.52ms.\n",
      "  function_optimizer: function_optimizer did nothing. time = 0.11ms.\n",
      "  constant_folding: Graph size after: 54 nodes (0), 85 edges (0), time = 3.671ms.\n",
      "  function_optimizer: function_optimizer did nothing. time = 0.142ms.\n",
      "\n",
      "2021-11-07 17:56:42,229 - INFO - Using tensorflow=2.6.0, onnx=1.10.2, tf2onnx=1.9.2/0f28b7\n",
      "2021-11-07 17:56:42,229 - INFO - Using opset <onnx, 9>\n",
      "2021-11-07 17:56:42,366 - INFO - Computed 0 values for constant folding\n",
      "2021-11-07 17:56:42,524 - INFO - Optimizing ONNX model\n",
      "2021-11-07 17:56:42,742 - INFO - After optimization: Cast -1 (1->0), Const +1 (17->18), Identity -6 (6->0), Reshape +1 (1->2), Transpose -11 (12->1)\n",
      "2021-11-07 17:56:42,764 - INFO - \n",
      "2021-11-07 17:56:42,764 - INFO - Successfully converted TensorFlow model method3/model to ONNX\n",
      "2021-11-07 17:56:42,764 - INFO - Model inputs: ['conv2d_9_input']\n",
      "2021-11-07 17:56:42,765 - INFO - Model outputs: ['dense_19']\n",
      "2021-11-07 17:56:42,765 - INFO - ONNX model is saved at method3/cnn_model.onnx\n"
     ]
    }
   ],
   "source": [
    "!python3 -m tf2onnx.convert --saved-model \"method3/model\" --output \"method3/cnn_model.onnx\""
   ]
  },
  {
   "cell_type": "code",
   "execution_count": 21,
   "metadata": {},
   "outputs": [],
   "source": [
    "loaded_model = cv.dnn.readNetFromONNX('method3/cnn_model.onnx')"
   ]
  },
  {
   "cell_type": "code",
   "execution_count": 22,
   "metadata": {},
   "outputs": [],
   "source": [
    "loaded_model.setInput(X[0])"
   ]
  },
  {
   "cell_type": "code",
   "execution_count": 23,
   "metadata": {},
   "outputs": [],
   "source": [
    "y_0 = loaded_model.forward()"
   ]
  },
  {
   "cell_type": "code",
   "execution_count": 24,
   "metadata": {},
   "outputs": [
    {
     "name": "stdout",
     "output_type": "stream",
     "text": [
      "[[6.2908832e-08 2.6314289e-08 9.9999619e-01 3.6687018e-06 1.6972680e-12\n",
      "  1.7612464e-10 2.9059966e-11 1.1049802e-10 5.3607582e-08 4.5016380e-13]]\n"
     ]
    }
   ],
   "source": [
    "print(y_0)"
   ]
  },
  {
   "cell_type": "code",
   "execution_count": 25,
   "metadata": {},
   "outputs": [
    {
     "data": {
      "text/plain": [
       "2"
      ]
     },
     "execution_count": 25,
     "metadata": {},
     "output_type": "execute_result"
    }
   ],
   "source": [
    "np.argmax(y_0)"
   ]
  },
  {
   "cell_type": "code",
   "execution_count": 26,
   "metadata": {},
   "outputs": [
    {
     "data": {
      "text/plain": [
       "<matplotlib.image.AxesImage at 0x7fa03872b4f0>"
      ]
     },
     "execution_count": 26,
     "metadata": {},
     "output_type": "execute_result"
    },
    {
     "data": {
      "image/png": "[encoded data removed]",
      "text/plain": [
       "<Figure size 432x288 with 1 Axes>"
      ]
     },
     "metadata": {
      "needs_background": "light"
     },
     "output_type": "display_data"
    }
   ],
   "source": [
    "plt.imshow(X[0])"
   ]
  }
 ],
 "metadata": {
  "kernelspec": {
   "display_name": "Python 3",
   "language": "python",
   "name": "python3"
  },
  "language_info": {
   "codemirror_mode": {
    "name": "ipython",
    "version": 3
   },
   "file_extension": ".py",
   "mimetype": "text/x-python",
   "name": "python",
   "nbconvert_exporter": "python",
   "pygments_lexer": "ipython3",
   "version": "3.8.10"
  }
 },
 "nbformat": 4,
 "nbformat_minor": 5
}
